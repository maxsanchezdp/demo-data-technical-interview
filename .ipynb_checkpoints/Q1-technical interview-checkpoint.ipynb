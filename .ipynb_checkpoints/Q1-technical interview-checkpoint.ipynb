{
 "cells": [
  {
   "cell_type": "markdown",
   "metadata": {},
   "source": [
    "# TOP 500 supercomputer mining - Challenge 1\n",
    "\n",
    "# 1-A\n",
    "\n",
    "In this challenge you will mine top500 website to retrieve information on the most powerfull supercomputer of the last years.\n",
    "\n",
    "Your task is to scrape information for the top 500 supercomputers from 2014 to 2018. The information should include:\n",
    "\n",
    "* **Rank**\n",
    "\n",
    "* **Name**\n",
    "\n",
    "* **Year**\n",
    "\n",
    "* **Description**\n",
    "\n",
    "* **Company**\n",
    "\n",
    "* **Country**\n",
    "\n",
    "* **Cores**\n",
    "\n",
    "* **RMax (TFlops/s)**\n",
    "\n",
    "* **RPeak (TFlops/s)**\n",
    "\n",
    "* **Power (kW)**\n",
    "\n",
    "\n",
    "The root url is the following:\n",
    "https://www.top500.org/\n",
    "\n",
    "\n",
    "You need to navigate the web in order to extract all information for 2500 supercomputers. As an example, the first urls are:\n",
    "\n",
    "https://www.top500.org/lists/2014/11/?page=1\n",
    "\n",
    "\n",
    "https://www.top500.org/list/2014/11/?page=2\n",
    "\n",
    "\n",
    "\n",
    "Write code that do the following:\n",
    "1. Look for the url to scrape.\n",
    "2. Make request.\n",
    "3. Return HTML string.\n",
    "4. Parse and extract all features. Create a dictionary with these fields.\n",
    "5. Return a list of dictionaries.\n",
    "\n"
   ]
  },
  {
   "cell_type": "code",
   "execution_count": 76,
   "metadata": {},
   "outputs": [],
   "source": [
    "import requests as req\n",
    "from bs4 import BeautifulSoup\n",
    "import re"
   ]
  },
  {
   "cell_type": "code",
   "execution_count": 77,
   "metadata": {},
   "outputs": [],
   "source": [
    "url = \"https://www.top500.org/list/2014/11/?page=1\"\n",
    "\n",
    "res = req.get(url)\n",
    "soup = BeautifulSoup(res.text, 'html.parser')\n",
    "   "
   ]
  },
  {
   "cell_type": "code",
   "execution_count": 129,
   "metadata": {},
   "outputs": [
    {
     "data": {
      "text/plain": [
       "<tr>\n",
       "<td><span>56</span></td>\n",
       "<td><a href=\"/site/50422\">Swiss National Supercomputing Centre (CSCS)</a><br/>Switzerland</td>\n",
       "<td><a href=\"/system/178451\">\n",
       "<b>Piz Daint Multicore</b> - Cray XC40, Xeon E5-2690v3 12C 2.6GHz, Aries interconnect \n",
       "                    </a><br>Cray Inc.</br></td>\n",
       "<td>30,240</td>\n",
       "<td>944.8</td>\n",
       "<td>1,258.0</td>\n",
       "<td></td>\n",
       "</tr>"
      ]
     },
     "execution_count": 129,
     "metadata": {},
     "output_type": "execute_result"
    }
   ],
   "source": [
    "computers = soup.select('tr')[1:]\n",
    "c = computers[55]\n",
    "c"
   ]
  },
  {
   "cell_type": "code",
   "execution_count": 131,
   "metadata": {},
   "outputs": [
    {
     "name": "stdout",
     "output_type": "stream",
     "text": [
      "{'rank': '56', 'name': 'Piz Daint Multicore', 'year': 2014, 'company': 'Cray Inc.', 'country': 'Switzerland', 'description': 'Swiss National Supercomputing Centre (CSCS) Cray XC40 Xeon E5-2690v3 12C 2.6GHz Aries interconnect', 'cores': 30240, 'rmax': 944.8, 'rpeak': 1258.0, 'power': ''}\n"
     ]
    }
   ],
   "source": [
    "info = {}\n",
    "info[\"rank\"] = c.select(\"td\")[0].get_text()\n",
    "info[\"name\"] = c.select(\"td\")[2].select(\"b\")[0].get_text() if c.select(\"td\")[2].select(\"b\") else \"\"\n",
    "info[\"year\"] = 2014\n",
    "info[\"company\"] = c.select(\"td\")[2].select(\"br\")[0].get_text()\n",
    "info[\"country\"] = str(c.select(\"td\")[1]).split(\"<br/>\")[1].replace(\"</td>\",\"\")\n",
    "d1 = c.select(\"td\")[1].select(\"a\")[0].get_text()\n",
    "d2 = c.select(\"td\")[2].get_text().replace(info[\"name\"]+\" - \",\"\").replace(info[\"company\"],\"\").replace(\",\",\"\").strip()\n",
    "info[\"description\"] = d1+\" \"+d2\n",
    "info[\"cores\"] = int(c.select(\"td\")[3].get_text().replace(\",\",\"\")) if c.select(\"td\")[3].get_text()!=\"\" else \"\"\n",
    "info[\"rmax\"] = float(c.select(\"td\")[4].get_text().replace(\",\",\"\")) if c.select(\"td\")[3].get_text()!=\"\" else \"\"\n",
    "info[\"rpeak\"] = float(c.select(\"td\")[5].get_text().replace(\",\",\"\"))\n",
    "info[\"power\"] = int(c.select(\"td\")[6].get_text().replace(\",\",\"\")) if c.select(\"td\")[6].get_text()!=\"\" else \"\"\n",
    "print (info)"
   ]
  },
  {
   "cell_type": "code",
   "execution_count": 133,
   "metadata": {},
   "outputs": [
    {
     "name": "stdout",
     "output_type": "stream",
     "text": [
      "{'rank': '1', 'name': 'Tianhe-2A', 'year': 2014, 'company': 'NUDT', 'country': 'China', 'description': 'National Super Computer Center in Guangzhou TH-IVB-FEP Cluster Intel Xeon E5-2692 12C 2.200GHz TH Express-2 Intel Xeon Phi 31S1P', 'cores': 3120000, 'rmax': 33862.7, 'rpeak': 54902.4, 'power': 17808}\n"
     ]
    }
   ],
   "source": [
    "data = []\n",
    "computers = soup.select('tr')[1:]\n",
    "for c in computers:\n",
    "    info = {}\n",
    "    info[\"rank\"] = c.select(\"td\")[0].get_text()\n",
    "    info[\"name\"] = c.select(\"td\")[2].select(\"b\")[0].get_text() if c.select(\"td\")[2].select(\"b\") else \"\"\n",
    "    info[\"year\"] = 2014\n",
    "    info[\"company\"] = c.select(\"td\")[2].select(\"br\")[0].get_text()\n",
    "    info[\"country\"] = str(c.select(\"td\")[1]).split(\"<br/>\")[1].replace(\"</td>\",\"\")\n",
    "    d1 = c.select(\"td\")[1].select(\"a\")[0].get_text()\n",
    "    d2 = c.select(\"td\")[2].get_text().replace(info[\"name\"]+\" - \",\"\").replace(info[\"company\"],\"\").replace(\",\",\"\").strip()\n",
    "    info[\"description\"] = d1+\" \"+d2\n",
    "    info[\"cores\"] = int(c.select(\"td\")[3].get_text().replace(\",\",\"\")) if c.select(\"td\")[3].get_text()!=\"\" else \"\"\n",
    "    info[\"rmax\"] = float(c.select(\"td\")[4].get_text().replace(\",\",\"\")) if c.select(\"td\")[4].get_text()!=\"\" else \"\"\n",
    "    info[\"rpeak\"] = float(c.select(\"td\")[5].get_text().replace(\",\",\"\")) if c.select(\"td\")[5].get_text()!=\"\" else \"\"\n",
    "    info[\"power\"] = int(c.select(\"td\")[6].get_text().replace(\",\",\"\")) if c.select(\"td\")[6].get_text()!=\"\" else \"\"\n",
    "    data.append(info)\n",
    "    \n",
    "print (data[0])"
   ]
  },
  {
   "cell_type": "code",
   "execution_count": 137,
   "metadata": {},
   "outputs": [],
   "source": [
    "def get_info(start_year,end_year):\n",
    "    data = []\n",
    "    for year in range(start_year, end_year):\n",
    "        for i in range(1,6):\n",
    "            url = f\"https://www.top500.org/list/{year}/11/?page={i}\"\n",
    "            res = req.get(url)\n",
    "            soup = BeautifulSoup(res.text, 'html.parser')\n",
    "            computers = soup.select('tr')[1:]\n",
    "            for c in computers:\n",
    "                info = {}\n",
    "                info[\"rank\"] = c.select(\"td\")[0].get_text()\n",
    "                info[\"name\"] = c.select(\"td\")[2].select(\"b\")[0].get_text() if c.select(\"td\")[2].select(\"b\") else \"\"\n",
    "                info[\"year\"] = year\n",
    "                info[\"company\"] = c.select(\"td\")[2].select(\"br\")[0].get_text()\n",
    "                info[\"country\"] = str(c.select(\"td\")[1]).split(\"<br/>\")[1].replace(\"</td>\",\"\")\n",
    "                d1 = c.select(\"td\")[1].select(\"a\")[0].get_text()\n",
    "                d2 = c.select(\"td\")[2].get_text().replace(info[\"name\"]+\" - \",\"\").replace(info[\"company\"],\"\").replace(\",\",\"\").strip()\n",
    "                info[\"description\"] = d1+\" \"+d2\n",
    "                info[\"cores\"] = int(c.select(\"td\")[3].get_text().replace(\",\",\"\")) if c.select(\"td\")[3].get_text()!=\"\" else \"\"\n",
    "                info[\"rmax\"] = float(c.select(\"td\")[4].get_text().replace(\",\",\"\")) if c.select(\"td\")[4].get_text()!=\"\" else \"\"\n",
    "                info[\"rpeak\"] = float(c.select(\"td\")[5].get_text().replace(\",\",\"\")) if c.select(\"td\")[5].get_text()!=\"\" else \"\"\n",
    "                info[\"power\"] = int(c.select(\"td\")[6].get_text().replace(\",\",\"\")) if c.select(\"td\")[6].get_text()!=\"\" else \"\"\n",
    "                data.append(info)\n",
    "    return(data)\n",
    "    \n",
    "    "
   ]
  },
  {
   "cell_type": "code",
   "execution_count": 138,
   "metadata": {},
   "outputs": [],
   "source": [
    "data = get_info(2014,2019)"
   ]
  },
  {
   "cell_type": "code",
   "execution_count": 140,
   "metadata": {},
   "outputs": [
    {
     "data": {
      "text/plain": [
       "{'rank': '500',\n",
       " 'name': '',\n",
       " 'year': 2018,\n",
       " 'company': 'Inspur',\n",
       " 'country': 'China',\n",
       " 'description': 'Internet Service A SA5212M4 Xeon E5-2682v4 16C 2.5GHz 10G Ethernet',\n",
       " 'cores': 45440,\n",
       " 'rmax': 874.8,\n",
       " 'rpeak': 1817.6,\n",
       " 'power': ''}"
      ]
     },
     "execution_count": 140,
     "metadata": {},
     "output_type": "execute_result"
    }
   ],
   "source": [
    "data[2499]"
   ]
  },
  {
   "cell_type": "markdown",
   "metadata": {},
   "source": [
    "Your output before store in Sql should be something like:\n",
    "\n",
    "[{'ranking': 1,\n",
    "  'name': 'Tianhe-2A',\n",
    "  'year': 2014,\n",
    "  'description': 'National Super Computer Center in Guangzhou Cluster  Intel Xeon E5-2692 12C 2.200GHz  TH Express-2',\n",
    "  'company': 'NUDT',\n",
    "  'country': 'China',\n",
    "  'cores': 3120000,\n",
    "  'rmax': 33862.7,\n",
    "  'rpeak': 54902.4,\n",
    "  'power': 17808},\n",
    "  \n",
    " {'ranking': 2,\n",
    "  'name': 'Titan',\n",
    "  'year': 2014,\n",
    "  'description': 'DOE/SC/Oak Ridge National Laboratory XK7  Opteron 6274 16C 2.200GHz  Cray Gemini interconnect',\n",
    "  'company': 'Cray Inc.',\n",
    "  'country': 'United States',\n",
    "  'cores': 560640,\n",
    "  'rmax': 17590.0,\n",
    "  'rpeak': 27112.5,\n",
    "  'power': 8209}....]"
   ]
  },
  {
   "cell_type": "markdown",
   "metadata": {},
   "source": [
    "\n",
    "# 1-B\n",
    "\n",
    "\n",
    "When you complete this task, you need to save the information in a SQL database. For that:\n",
    "1. Install MySQL and MySQL connector for Python.\n",
    "2. Start MySQL server on your computer. \n",
    "3. Create a new empty database. \n",
    "4. Create a table for store the data. As an example, the table could be:\n",
    " ```sql\n",
    "   CREATE TABLE top_500(\n",
    "           ranking int,\n",
    "           name text, \n",
    "           year int,\n",
    "           description text,\n",
    "           company text,\n",
    "           country text, \n",
    "           cores int, \n",
    "           rmax float,\n",
    "           rpeak float,\n",
    "           power int);\n",
    "```"
   ]
  },
  {
   "cell_type": "code",
   "execution_count": null,
   "metadata": {},
   "outputs": [],
   "source": [
    "# Your code here"
   ]
  }
 ],
 "metadata": {
  "kernelspec": {
   "display_name": "Python 3",
   "language": "python",
   "name": "python3"
  },
  "language_info": {
   "codemirror_mode": {
    "name": "ipython",
    "version": 3
   },
   "file_extension": ".py",
   "mimetype": "text/x-python",
   "name": "python",
   "nbconvert_exporter": "python",
   "pygments_lexer": "ipython3",
   "version": "3.6.9"
  }
 },
 "nbformat": 4,
 "nbformat_minor": 4
}
