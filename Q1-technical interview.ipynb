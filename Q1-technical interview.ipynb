{
 "cells": [
  {
   "cell_type": "markdown",
   "metadata": {},
   "source": [
    "# TOP 500 supercomputer mining - Challenge 1\n",
    "\n",
    "# 1-A\n",
    "\n",
    "In this challenge you will mine top500 website to retrieve information on the most powerfull supercomputer of the last years.\n",
    "\n",
    "Your task is to scrape information for the top 500 supercomputers from 2014 to 2018. The information should include:\n",
    "\n",
    "* **Rank**\n",
    "\n",
    "* **Name**\n",
    "\n",
    "* **Year**\n",
    "\n",
    "* **Description**\n",
    "\n",
    "* **Company**\n",
    "\n",
    "* **Country**\n",
    "\n",
    "* **Cores**\n",
    "\n",
    "* **RMax (TFlops/s)**\n",
    "\n",
    "* **RPeak (TFlops/s)**\n",
    "\n",
    "* **Power (kW)**\n",
    "\n",
    "\n",
    "The root url is the following:\n",
    "https://www.top500.org/\n",
    "\n",
    "\n",
    "You need to navigate the web in order to extract all information for 2500 supercomputers. As an example, the first urls are:\n",
    "\n",
    "https://www.top500.org/lists/2014/11/?page=1\n",
    "\n",
    "\n",
    "https://www.top500.org/list/2014/11/?page=2\n",
    "\n",
    "\n",
    "\n",
    "Write code that do the following:\n",
    "1. Look for the url to scrape.\n",
    "2. Make request.\n",
    "3. Return HTML string.\n",
    "4. Parse and extract all features. Create a dictionary with these fields.\n",
    "5. Return a list of dictionaries.\n",
    "\n"
   ]
  },
  {
   "cell_type": "code",
   "execution_count": 22,
   "metadata": {},
   "outputs": [],
   "source": [
    "import requests as req\n",
    "from bs4 import BeautifulSoup\n",
    "import re"
   ]
  },
  {
   "cell_type": "code",
   "execution_count": 2,
   "metadata": {},
   "outputs": [],
   "source": [
    "url = \"https://www.top500.org/list/2014/11/?page=1\"\n",
    "\n",
    "res = req.get(url)\n",
    "soup = BeautifulSoup(res.text, 'html.parser')\n",
    "   "
   ]
  },
  {
   "cell_type": "code",
   "execution_count": 31,
   "metadata": {},
   "outputs": [
    {
     "data": {
      "text/plain": [
       "<tr>\n",
       "<td><span>4</span></td>\n",
       "<td><a href=\"/site/50313\">RIKEN Advanced Institute for Computational Science (AICS)</a><br/>Japan</td>\n",
       "<td><a href=\"/system/177232\">K computer, SPARC64 VIIIfx 2.0GHz, Tofu interconnect\n",
       "                    </a><br>Fujitsu</br></td>\n",
       "<td>705,024</td>\n",
       "<td>10,510.0</td>\n",
       "<td>11,280.4</td>\n",
       "<td>12,660</td>\n",
       "</tr>"
      ]
     },
     "execution_count": 31,
     "metadata": {},
     "output_type": "execute_result"
    }
   ],
   "source": [
    "\n",
    "computers = soup.select('tr')[1:]\n",
    "c = computers[3]\n",
    "c"
   ]
  },
  {
   "cell_type": "code",
   "execution_count": 32,
   "metadata": {},
   "outputs": [
    {
     "name": "stdout",
     "output_type": "stream",
     "text": [
      "['K computer', ' SPARC64 VIIIfx 2.0GHz', ' Tofu interconnect\\n                    Fujitsu']\n",
      "{'rank': '4', 'name': '', 'year': 2014, 'company': 'Fujitsu', 'country': 'Japan', 'cores': 705024, 'rmax': 10510.0, 'rpeak': 11280.4, 'power': 12660}\n"
     ]
    }
   ],
   "source": [
    "info = {}\n",
    "info[\"rank\"] = c.select(\"td\")[0].get_text()\n",
    "info[\"name\"] = c.select(\"td\")[2].select(\"b\")[0].get_text() if c.select(\"td\")[2].select(\"b\") else \"\"\n",
    "info[\"year\"] = 2014\n",
    "d1 = c.select(\"td\")[1].select(\"a\")[0].get_text()\n",
    "d2 = c.select(\"td\")[2].get_text().split(\",\")\n",
    "d2[0] = re.sub(\"\\\\n.*\\s-\\s\",\"\",d2[0])\n",
    "join = \" \".join()\n",
    "print(d2)\n",
    "info[\"company\"] = c.select(\"td\")[2].select(\"br\")[0].get_text()\n",
    "info[\"country\"] = str(c.select(\"td\")[1]).split(\"<br/>\")[1].replace(\"</td>\",\"\")\n",
    "info[\"cores\"] = int(c.select(\"td\")[3].get_text().replace(\",\",\"\"))\n",
    "info[\"rmax\"] = float(c.select(\"td\")[4].get_text().replace(\",\",\"\"))\n",
    "info[\"rpeak\"] = float(c.select(\"td\")[5].get_text().replace(\",\",\"\"))\n",
    "info[\"power\"] = int(c.select(\"td\")[6].get_text().replace(\",\",\"\"))\n",
    "print (info)"
   ]
  },
  {
   "cell_type": "code",
   "execution_count": 46,
   "metadata": {},
   "outputs": [
    {
     "name": "stdout",
     "output_type": "stream",
     "text": [
      "[{'rank': '1'}, {'rank': '2'}, {'rank': '3'}, {'rank': '4'}, {'rank': '5'}, {'rank': '6'}, {'rank': '7'}, {'rank': '8'}, {'rank': '9'}, {'rank': '10'}, {'rank': '11'}, {'rank': '12'}, {'rank': '13'}, {'rank': '14'}, {'rank': '15'}, {'rank': '16'}, {'rank': '17'}, {'rank': '18'}, {'rank': '19'}, {'rank': '20'}, {'rank': '21'}, {'rank': '22'}, {'rank': '23'}, {'rank': '24'}, {'rank': '25'}, {'rank': '26'}, {'rank': '27'}, {'rank': '28'}, {'rank': '29'}, {'rank': '30'}, {'rank': '31'}, {'rank': '32'}, {'rank': '33'}, {'rank': '34'}, {'rank': '35'}, {'rank': '36'}, {'rank': '37'}, {'rank': '38'}, {'rank': '39'}, {'rank': '40'}, {'rank': '41'}, {'rank': '42'}, {'rank': '43'}, {'rank': '44'}, {'rank': '45'}, {'rank': '46'}, {'rank': '47'}, {'rank': '48'}, {'rank': '49'}, {'rank': '50'}, {'rank': '51'}, {'rank': '52'}, {'rank': '53'}, {'rank': '54'}, {'rank': '55'}, {'rank': '56'}, {'rank': '57'}, {'rank': '58'}, {'rank': '59'}, {'rank': '60'}, {'rank': '61'}, {'rank': '62'}, {'rank': '63'}, {'rank': '64'}, {'rank': '65'}, {'rank': '66'}, {'rank': '67'}, {'rank': '68'}, {'rank': '69'}, {'rank': '70'}, {'rank': '71'}, {'rank': '72'}, {'rank': '73'}, {'rank': '74'}, {'rank': '75'}, {'rank': '76'}, {'rank': '77'}, {'rank': '78'}, {'rank': '79'}, {'rank': '80'}, {'rank': '81'}, {'rank': '82'}, {'rank': '83'}, {'rank': '84'}, {'rank': '85'}, {'rank': '86'}, {'rank': '87'}, {'rank': '88'}, {'rank': '89'}, {'rank': '90'}, {'rank': '91'}, {'rank': '92'}, {'rank': '93'}, {'rank': '94'}, {'rank': '95'}, {'rank': '96'}, {'rank': '97'}, {'rank': '98'}, {'rank': '99'}, {'rank': '100'}]\n"
     ]
    }
   ],
   "source": [
    "data = []\n",
    "computers = soup.select('tr')[1:]\n",
    "for c in computers:\n",
    "    info = {}\n",
    "    info[\"rank\"]=c.select(\"td\")[0].get_text()\n",
    "    #info[\"name\"]\n",
    "    data.append(info)\n",
    "\n",
    "print (data)"
   ]
  },
  {
   "cell_type": "code",
   "execution_count": null,
   "metadata": {},
   "outputs": [],
   "source": []
  },
  {
   "cell_type": "code",
   "execution_count": null,
   "metadata": {},
   "outputs": [],
   "source": []
  },
  {
   "cell_type": "markdown",
   "metadata": {},
   "source": [
    "Your output before store in Sql should be something like:\n",
    "\n",
    "[{'ranking': 1,\n",
    "  'name': 'Tianhe-2A',\n",
    "  'year': 2014,\n",
    "  'description': 'National Super Computer Center in Guangzhou Cluster  Intel Xeon E5-2692 12C 2.200GHz  TH Express-2',\n",
    "  'company': 'NUDT',\n",
    "  'country': 'China',\n",
    "  'cores': 3120000,\n",
    "  'rmax': 33862.7,\n",
    "  'rpeak': 54902.4,\n",
    "  'power': 17808},\n",
    "  \n",
    " {'ranking': 2,\n",
    "  'name': 'Titan',\n",
    "  'year': 2014,\n",
    "  'description': 'DOE/SC/Oak Ridge National Laboratory XK7  Opteron 6274 16C 2.200GHz  Cray Gemini interconnect',\n",
    "  'company': 'Cray Inc.',\n",
    "  'country': 'United States',\n",
    "  'cores': 560640,\n",
    "  'rmax': 17590.0,\n",
    "  'rpeak': 27112.5,\n",
    "  'power': 8209}....]"
   ]
  },
  {
   "cell_type": "markdown",
   "metadata": {},
   "source": [
    "\n",
    "# 1-B\n",
    "\n",
    "\n",
    "When you complete this task, you need to save the information in a SQL database. For that:\n",
    "1. Install MySQL and MySQL connector for Python.\n",
    "2. Start MySQL server on your computer. \n",
    "3. Create a new empty database. \n",
    "4. Create a table for store the data. As an example, the table could be:\n",
    " ```sql\n",
    "   CREATE TABLE top_500(\n",
    "           ranking int,\n",
    "           name text, \n",
    "           year int,\n",
    "           description text,\n",
    "           company text,\n",
    "           country text, \n",
    "           cores int, \n",
    "           rmax float,\n",
    "           rpeak float,\n",
    "           power int);\n",
    "```"
   ]
  },
  {
   "cell_type": "code",
   "execution_count": null,
   "metadata": {},
   "outputs": [],
   "source": [
    "# Your code here"
   ]
  }
 ],
 "metadata": {
  "kernelspec": {
   "display_name": "Python 3",
   "language": "python",
   "name": "python3"
  },
  "language_info": {
   "codemirror_mode": {
    "name": "ipython",
    "version": 3
   },
   "file_extension": ".py",
   "mimetype": "text/x-python",
   "name": "python",
   "nbconvert_exporter": "python",
   "pygments_lexer": "ipython3",
   "version": "3.6.9"
  }
 },
 "nbformat": 4,
 "nbformat_minor": 4
}
